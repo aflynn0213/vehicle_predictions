{
 "cells": [
  {
   "cell_type": "code",
   "execution_count": null,
   "id": "0ea53c3a",
   "metadata": {},
   "outputs": [],
   "source": [
    "# -*- coding: utf-8 -*-\n",
    "import pandas as pd\n",
    "import numpy as np\n",
    "import matplotlib.pyplot as plt\n",
    "import seaborn as sns\n",
    "import re\n",
    "\n",
    "from sklearn.feature_extraction.text import TfidfVectorizer\n",
    "\n",
    "from sklearn.neural_network import MLPRegressor\n",
    "import statsmodels.api as sm\n",
    "\n",
    "from sklearn.preprocessing import (LabelEncoder, OneHotEncoder, \n",
    "                                   PolynomialFeatures, StandardScaler,\n",
    "                                   label_binarize)\n",
    "from scipy.sparse import csr_matrix\n",
    "\n",
    "#from tensorflow.keras.models import Sequential\n",
    "#from tensorflow.keras.layers import Dense\n",
    "#from tensorflow.keras.wrappers.scikit_learn import KerasClassifier\n",
    "from importlib import reload\n",
    "    \n",
    "import trainers as tr\n",
    "import price_calculations as pr"
   ]
  },
  {
   "cell_type": "code",
   "execution_count": null,
   "id": "3367429e-e992-4a55-bfb2-8fd01f6ca02c",
   "metadata": {},
   "outputs": [],
   "source": [
    "# Reload Trainers due to possibility of local changes\n",
    "reload(tr)\n",
    "reload(pr)"
   ]
  },
  {
   "cell_type": "code",
   "execution_count": null,
   "id": "800f89f7",
   "metadata": {},
   "outputs": [],
   "source": [
    "def engineerTestData(df,log_cols,encoded_cols,freq_cols,\n",
    "                     mask_cols,token_cols,orig_cols, feats_to_drop,\n",
    "                     coder,token_1,token_2):\n",
    "    df.columns =  df.columns.str.lower()\n",
    "    df.columns = [col.strip() for col in df.columns]\n",
    "    df.set_index('listingid',inplace=True)\n",
    "    df = df.apply(lambda col: col.fillna('Unknown') if col.dtype == 'O' else col.fillna(0))\n",
    "    \n",
    "    [df.__setitem__(col, np.log(np.ceil(df[col]))) for col in log_cols]\n",
    "    [df.__setitem__(col, df[col].map(df[col].value_counts())) for col in freq_cols]\n",
    "    [df.__setitem__(col, df[col].astype(int)) for col in mask_cols]\n",
    "\n",
    "    handle_encode = orig_cols \n",
    "    test_encode = df[encoded_cols]\n",
    "    for col in handle_encode:\n",
    "        col = col.strip()   \n",
    "        func_name = 'handle_' + col  # Prepare function name\n",
    "        if func_name in globals() and callable(globals()[func_name]):\n",
    "            func = globals()[func_name]\n",
    "            if col == 'vehdrivetrain':\n",
    "                temp_df = func(df[col].copy())  # Call the function dynamically\n",
    "                test_encode[col] = temp_df\n",
    "            elif col == 'vehhistory':\n",
    "                df.loc[df[col] == 'Unknown', col] = 0\n",
    "                temp_df = df[col].copy().str.split(',',n=1,expand=True)\n",
    "                temp_df.columns = ['Owners', 'History']\n",
    "                temp_df['Owners'] = temp_df['Owners'].str.extract(r'^(\\d+)')\n",
    "                encoded_hist = func(temp_df['History'])  # Call the function dynamically\n",
    "                df['owners'] = temp_df['Owners']\n",
    "                df[encoded_hist.columns] = encoded_hist\n",
    "            elif col == 'vehengine':\n",
    "                temp_df = func(df[col].copy())  # Call the function dynamically\n",
    "                temp_df.columns = temp_df.columns.str.lower()\n",
    "                df[temp_df.columns] = temp_df\n",
    "            elif col == 'vehcolorext':\n",
    "                col_temp = func(df[col].copy())  # Call the function dynamically\n",
    "                col_temp.columns = col_temp.columns.str.lower()\n",
    "            elif col == 'vehcolorint':\n",
    "                col_tmp = func(df[col].copy())  # Call the function dynamically\n",
    "                col_tmp.columns = col_tmp.columns.str.lower()            \n",
    "        else:\n",
    "            print(f\"Function '{func_name}' does not exist or is not callable.\")\n",
    "\n",
    "    colors = pd.merge(col_temp,col_tmp,left_index=True, right_index=True)\n",
    "    df = pd.merge(df,colors,left_index=True, right_index=True)\n",
    "    temp_encoded = oHotEncode(test_encode,coder)\n",
    "    df.drop(columns=encoded_cols,inplace=True)\n",
    "    df = pd.merge(df,temp_encoded,left_index=True, right_index=True)\n",
    "    df.columns = df.columns.astype(str)\n",
    "\n",
    "    tf1 = tf_idfTokenizer(df[token_cols[0]].copy(),token_1)\n",
    "    tf2 = tf_idfTokenizer(df[token_cols[1]].copy(),token_2)\n",
    "    #tfs = pd.concat([tf1, tf2])\n",
    "    #tfs = combined_tf.loc[:,~combined_tf.columns.duplicated()] \n",
    "    tfs = pd.merge(tf1, tf2,left_index=True,right_index=True)\n",
    "    df = pd.merge(df,tfs,left_index=True,right_index=True)\n",
    "    df.drop(columns=feats_to_drop,inplace=True)\n",
    "    \n",
    "    return df\n",
    "    \n",
    "def oHotEncode(df_,coder):\n",
    "    encoded_mat = coder.transform(df_)\n",
    "    return pd.DataFrame(encoded_mat.todense(),\n",
    "                        columns=[cat for columns in coder.categories_ for cat in columns],\n",
    "                        index=df_.index)\n",
    "\n",
    "    \n",
    "def zScoreTransform(col):\n",
    "    return np.divide(np.subtract(col,col.mean()),col.std())\n",
    "\n",
    "    \n",
    "def tf_idfTokenizer(df_,tfidf):\n",
    "    tf_mat = tfidf.transform(df_)\n",
    "    return pd.DataFrame(tf_mat.toarray(),\n",
    "                          columns=tfidf.get_feature_names_out(['feature']),\n",
    "                          index=df_.index)\n",
    "\n",
    "    \n",
    "def setFeatPtr(data,index):\n",
    "    return data.iloc[:,index],data.columns[index]\n",
    "\n",
    "\n",
    "def plotDist(data,title):\n",
    "    # Plotting a histogram of frequencies\n",
    "    fig, ax = plt.subplots()\n",
    "    sns.histplot(data, kde=True, ax=ax)\n",
    "    ax.set_xlabel('Values')\n",
    "    ax.set_ylabel('Frequency')\n",
    "    ax.set_title(title)\n",
    "    plt.show()\n",
    "\n",
    "def categorize_train(phrase, awd_pattern, fwd_pattern, wd_pattern):\n",
    "    if re.search(awd_pattern, phrase) and re.search(wd_pattern, phrase):\n",
    "        return 'hybrid'\n",
    "    elif re.search(awd_pattern, phrase):\n",
    "        return 'awd'\n",
    "    elif re.search(fwd_pattern, phrase):\n",
    "        return 'fwd'\n",
    "    elif re.search(wd_pattern, phrase):\n",
    "        return '_4_wd'\n",
    "    else:\n",
    "        return 'Unknown'\n",
    "\n",
    "def handle_vehdrivetrain(df):\n",
    "    df = df.str.lower()\n",
    "    awd_pattern = re.compile(r'awd|all', flags=re.IGNORECASE)\n",
    "    fwd_pattern = re.compile(r'fwd|front', flags=re.IGNORECASE)\n",
    "    wd_pattern = re.compile(r'4x4|4wd|four\\s?WHEEL\\s?DRIVE\\b', flags=re.IGNORECASE)\n",
    "    return df.apply(categorize_train, args=(awd_pattern, fwd_pattern, wd_pattern))\n",
    "\n",
    "# Function extracts engine size and configuration\n",
    "def categorize_engine(phrase):\n",
    "    engine_size_match = re.search(r'\\b\\d+(\\.\\d+)?\\s*L\\b', phrase)  # Matches pattern with number (with or without decimal) followed by L\n",
    "    config_match = re.search(r'V[-]?6|V[-]?8|\\b\\d\\s*cylinder|\\b6\\s*cylinde', phrase, re.IGNORECASE)  # Matches V6, V-6, V8, V-8, or a number followed by cylinders\n",
    "\n",
    "    if engine_size_match:\n",
    "        engine_size = float(re.search(r'\\d+(\\.\\d+)?', engine_size_match.group()).group())  # Extracts engine size\n",
    "        size_category = engine_size  # Assigning the engine size directly as the size category\n",
    "    else:\n",
    "        size_category = 0\n",
    "\n",
    "    if config_match:\n",
    "        config_str = config_match.group().upper()\n",
    "        config = 6 if '6' in config_str else 8  # Assign 6 or 8 based on the presence of 'Vx' or 'Cyclinders'\n",
    "    else:\n",
    "        config = 0\n",
    "\n",
    "    return size_category, config\n",
    "\n",
    "def handle_vehengine(df):\n",
    "    extracted_info = df.apply(categorize_engine)\n",
    "    # Convert the extracted information into a DataFrame\n",
    "    df = pd.DataFrame(extracted_info.tolist(), columns=['EngineSize', 'Cylinders'], index=df.index)\n",
    "    return df\n",
    "\n",
    "def handle_vehhistory(df):\n",
    "    print(\"HISTORY\")\n",
    "    # List of unique phrases\n",
    "    unique_phrases = [\n",
    "        'Accident(s) Reported',\n",
    "        'Buyback Protection Eligible',\n",
    "        'Non-Personal Use Reported',\n",
    "        'Title Issue(s) Reported'\n",
    "    ]\n",
    "    df = df.str.strip()\n",
    "    # Applies one-hot encoding to the 'History' column based on the unique phrases\n",
    "    encoded_df = df.str.get_dummies(',').reindex(columns=unique_phrases, fill_value=0)\n",
    "    # Checks if all columns for the specified phrases contain zeros and create a 'None of the above' column\n",
    "    encoded_df['None of the above'] = (encoded_df.sum(axis=1) == 0).astype(int)\n",
    "    encoded_df.index = df.index\n",
    "    return encoded_df\n",
    "\n",
    "def handle_vehcolorext(df_):\n",
    "    print(\"COLOR\")\n",
    "    common_colors = ['Black', 'Blue', 'Brown', 'Gray', 'Green', 'Steel', 'Metallic','Pearlcoat', 'Clearcoat',\n",
    "                     'Charcoal','Granite', 'Red', 'Silver', 'White']\n",
    "    silver_colors = ['Gray', 'Steel', 'Charcoal', 'Silver']\n",
    "    \n",
    "    temp = pd.DataFrame(index=df_.index)\n",
    "    for color in common_colors:\n",
    "        temp[f'{color}'] = df_.str.contains(color, case=False).astype(int)\n",
    "\n",
    "    # Grouping similar silver colors into a single 'Silver' category\n",
    "    temp['Silver'] = df_.str.contains('|'.join(silver_colors), case=False).astype(int)\n",
    "    temp.drop([col for col in silver_colors if col != 'Silver'], axis=1, inplace=True)\n",
    "    \n",
    "    # Populates a 'None' category if none of the common colors are present\n",
    "    temp['None'] = 1 - temp[[f'{color}' for color in temp.columns]].max(axis=1)\n",
    "    \n",
    "    return temp\n",
    "\n",
    "def handle_vehcolorint(df_):\n",
    "    print(\"COLOR2\")\n",
    "    common_colors = ['Black', 'Blue', 'Brown', 'Gray', 'Steel', 'Beige','trim',\n",
    "                     'Charcoal','Red', 'Silver', 'Frost','Maple','Tan','Cirrus','carbon','plum']\n",
    "    silver_colors = ['Gray', 'Steel', 'Charcoal', 'Silver']\n",
    "    temp = pd.DataFrame(index=df_.index)\n",
    "    for color in common_colors:\n",
    "        temp[f'{color}'] = df_.str.contains(color, case=False).astype(int)\n",
    "\n",
    "    # Grouping similar silver colors into a single 'Silver' category\n",
    "    temp['Silver'] = df_.str.contains('|'.join(silver_colors), case=False).astype(int)\n",
    "    temp.drop([col for col in silver_colors if col != 'Silver'], axis=1, inplace=True)\n",
    "    \n",
    "    # Populates a 'None' category if none of the common colors are present\n",
    "    temp['None'] = 1 - temp[[f'{color}' for color in temp.columns]].max(axis=1)\n",
    "    \n",
    "    return temp\n",
    "\n",
    "def calculate_age(df_):\n",
    "    age = 2024 - df_\n",
    "    return age"
   ]
  },
  {
   "cell_type": "code",
   "execution_count": null,
   "id": "089b73a2-0fbd-45a6-a1b4-efde2805b241",
   "metadata": {},
   "outputs": [],
   "source": [
    "#Initialize training and test dataframes\n",
    "orig_train = pd.read_csv('Training_DataSet.csv')\n",
    "df_test = pd.read_csv('Test_Dataset.csv')\n",
    "\n",
    "\n",
    "#Drop blank cells from training set to clean up data (contemplated using mean, median, or mode imputation,\n",
    "#but will explore without corrupting the data and due to the large size of the dataset eliminating\n",
    "#some rows should suffice\n",
    "orig_train.dropna(axis=0,how='any',inplace=True) #EXPLICIT CALL TO DROP ROWS WITH A SINGLE MISSING VALUE\n",
    "                                                 #(DEFAULT CALL DOES SAME)\n"
   ]
  },
  {
   "cell_type": "code",
   "execution_count": null,
   "id": "a4024633-409e-4181-8258-e25e8247b541",
   "metadata": {},
   "outputs": [],
   "source": [
    "orig_train.columns = orig_train.columns.str.lower()\n",
    "orig_train.set_index('listingid',inplace=True)\n",
    "\n",
    "df_train = orig_train.copy()\n",
    "df_train.info()"
   ]
  },
  {
   "cell_type": "code",
   "execution_count": null,
   "id": "587c6e1c-afcb-4af5-bd7e-58b1ad651e3e",
   "metadata": {},
   "outputs": [],
   "source": [
    "#NOTICE THERES ONLY JEEPS AND CADILLACS IN DATA SET BRAKE THEM UP FURTHER TO SEE\n",
    "#THE TRIMS SINCE TRIMS ARE USUALLY EXCLUSIVE TO MANUFACTURER LINE\n",
    "jeeps = df_train[df_train['vehmake'].str.lower() == 'jeep'].copy()\n",
    "caddy = df_train[df_train['vehmake'].str.lower() == 'cadillac'].copy()\n",
    "\n",
    "print(jeeps['vehicle_trim'].value_counts())\n",
    "print(caddy['vehicle_trim'].value_counts())"
   ]
  },
  {
   "cell_type": "code",
   "execution_count": null,
   "id": "83f944ef-b9be-4ed7-9875-f802e9d57145",
   "metadata": {},
   "outputs": [],
   "source": [
    "#MASSIVE CLASS IMBALANCE WILL NEED TO CONDENSE THIS AND IGNORE LOW FREQUENCY CLASSES\n",
    "#BECAUSE THEY ADD NOISE AND CLASSIFIER WILL NOT BE ABLE TO ARBITRATE\n",
    "conditions = [\n",
    "    caddy['vehicle_trim'].str.lower().str.contains('premium'),\n",
    "    caddy['vehicle_trim'].str.lower().str.contains('luxury'),\n",
    "    caddy['vehicle_trim'].str.lower().str.contains('base'),\n",
    "    caddy['vehicle_trim'].str.lower().str.contains('platinum')\n",
    "]\n",
    "\n",
    "choices = ['Premium Luxury', 'Luxury', 'Base', 'Platinum']\n",
    "\n",
    "# Use np.select() to relabel based on conditions\n",
    "caddy['vehicle_trim'] = np.select(conditions, choices, default='other')\n",
    "\n",
    "# Filter the DataFrame to keep only rows labeled as 'premium', 'luxury', 'base', or 'platinum'\n",
    "valid_labels = ['Premium Luxury', 'Luxury', 'Base', 'Platinum']\n",
    "caddy = caddy[caddy['vehicle_trim'].isin(valid_labels)]\n",
    "caddy[\"vehicle_trim\"]"
   ]
  },
  {
   "cell_type": "code",
   "execution_count": null,
   "id": "47264386-bc3e-43f7-9a49-2889fd584949",
   "metadata": {},
   "outputs": [],
   "source": [
    "valid_labels_jeep = ['limited', 'laredo',  'summit',\n",
    "                     'overland', 'altitude','trailhawk',\n",
    "                     'trackhawk','srt','sterling']\n",
    "\n",
    "conditions_jeep = [\n",
    "    jeeps['vehicle_trim'].str.lower().str.contains(label) for label in valid_labels_jeep\n",
    "]\n",
    "\n",
    "choices_jeep = ['Limited', 'Laredo',  'Summit', \n",
    "                     'Overland', 'Altitude','Trailhawk', 'Trackhawk',\n",
    "                        'SRT','Sterling Edition']\n",
    "\n",
    "# Use np.select() to classify based on conditions\n",
    "jeeps['vehicle_trim'] = np.select(conditions_jeep, choices_jeep, default='other')\n",
    "print(jeeps['vehicle_trim'].value_counts())\n",
    "# Filter the DataFrame to keep only rows labeled with valid labels\n",
    "jeeps = jeeps[jeeps['vehicle_trim'].isin(choices_jeep)]\n",
    "jeeps[\"vehicle_trim\"]"
   ]
  },
  {
   "cell_type": "code",
   "execution_count": null,
   "id": "d79f954a-3450-46eb-92a2-0f0e4aee9bef",
   "metadata": {},
   "outputs": [],
   "source": [
    "print(\"CADDY\")\n",
    "print(caddy[\"vehicle_trim\"].value_counts())\n",
    "print(\"JEEP\")\n",
    "print(jeeps[\"vehicle_trim\"].value_counts())"
   ]
  },
  {
   "cell_type": "code",
   "execution_count": null,
   "id": "babfd170-5b2f-427b-a629-8645c648f304",
   "metadata": {},
   "outputs": [],
   "source": [
    "print(jeeps.index)\n",
    "print(caddy.index)\n",
    "df_train.update(jeeps[['vehicle_trim']])\n",
    "df_train.update(caddy[['vehicle_trim']])\n",
    "df_train[\"vehicle_trim\"].value_counts()"
   ]
  },
  {
   "cell_type": "code",
   "execution_count": null,
   "id": "4836faff-5654-4f31-860a-3260d385a130",
   "metadata": {},
   "outputs": [],
   "source": [
    "options = choices + choices_jeep\n",
    "df_train = df_train[df_train['vehicle_trim'].isin(options)]\n",
    "\n",
    "print(df_train[\"vehicle_trim\"].value_counts())\n",
    "df_train.head()"
   ]
  },
  {
   "cell_type": "code",
   "execution_count": null,
   "id": "0475ba7e-308e-45d1-88b5-edea215197a5",
   "metadata": {},
   "outputs": [],
   "source": [
    "feats_to_drop = []\n",
    "encoded_cols = []\n",
    "freq_cols = []\n",
    "same_cols = []\n",
    "mask_cols = []\n",
    "log_cols = [] \n",
    "orig_cols = []\n",
    "\n",
    "\n",
    "jeeps = df_train[orig_train[\"vehmake\"]==\"Jeep\"].copy()\n",
    "caddys = df_train[df_train[\"vehmake\"]==\"Cadillac\"]\n",
    "\n",
    "input_jeeps = jeeps.copy()\n",
    "input_jeeps = input_jeeps.iloc[:,:-2]\n",
    "\n",
    "input_caddys = caddys.copy()\n",
    "input_caddys = input_caddys.iloc[:,:-2]\n",
    "\n",
    "col = 0\n",
    "feat_ptrj,column = setFeatPtr(input_jeeps,col)\n",
    "feat_ptrc,column = setFeatPtr(input_caddys,col)"
   ]
  },
  {
   "cell_type": "code",
   "execution_count": null,
   "id": "41db415e-1981-4467-873c-abfe3e4b322a",
   "metadata": {},
   "outputs": [],
   "source": [
    "feat_ptrj.head()"
   ]
  },
  {
   "cell_type": "code",
   "execution_count": null,
   "id": "4f104798-4996-4690-aee5-aaac85a0f572",
   "metadata": {},
   "outputs": [],
   "source": [
    "feat_ptrc.head()"
   ]
  },
  {
   "cell_type": "code",
   "execution_count": null,
   "id": "e28affee-07a2-4e70-88e7-e1b3ed78176d",
   "metadata": {},
   "outputs": [],
   "source": [
    "#PERCENTAGE MODE APPEARS\n",
    "count = (feat_ptrj==feat_ptrj.mode()[0]).sum()\n",
    "print(count/len(feat_ptrj))\n",
    "print(feat_ptrj.nunique())\n",
    "count = (feat_ptrc==feat_ptrc.mode()[0]).sum()\n",
    "print(count/len(feat_ptrc))\n",
    "print(feat_ptrc.nunique())\n"
   ]
  },
  {
   "cell_type": "code",
   "execution_count": null,
   "id": "7e6cca0c-7a17-4952-9693-4a01423bc767",
   "metadata": {},
   "outputs": [],
   "source": [
    "value_counts = feat_ptrj.value_counts()\n",
    "# Plotting a histogram of frequencies (Frequencies of Frequencies)\n",
    "plotDist(value_counts,\"Density of value frequencies\")\n",
    "#FREQUENCY ENCODE THESE VALUES AND THEN TAKE Z SCORE OR THE FREQUENCIES\n",
    "zvalues = zScoreTransform(value_counts)\n",
    "print(zvalues)\n",
    "plotDist(zvalues,\"Density of Z-transformed frequencies\")\n",
    "# Assuming 'value_counts' contains the frequencies\n",
    "log_frequencies = np.log(value_counts)\n",
    "# Plotting the density plot of the log of frequencies\n",
    "plt.figure(figsize=(8, 6))\n",
    "plotDist(log_frequencies,\"Density of log of frequencies\")\n",
    "# Plotting the density plot of the log of frequencies\n",
    "zlog = zScoreTransform(log_frequencies)\n",
    "plotDist(zlog,\"Density of Z-transformed log of frequencies\")\n",
    "freq = feat_ptrj.value_counts().to_dict()\n",
    "feat_ptrj = feat_ptrj.map(freq)\n",
    "feat_ptrj.head()"
   ]
  },
  {
   "cell_type": "code",
   "execution_count": null,
   "id": "c74f424c-c110-4581-a0d4-3846b37c52ac",
   "metadata": {},
   "outputs": [],
   "source": [
    "value_counts = feat_ptrc.value_counts()\n",
    "# Plotting a histogram of frequencies (Frequencies of Frequencies)\n",
    "plotDist(value_counts,\"Density of value frequencies\")\n",
    "#FREQUENCY ENCODE THESE VALUES AND THEN TAKE Z SCORE OR THE FREQUENCIES\n",
    "zvalues = zScoreTransform(value_counts)\n",
    "print(zvalues)\n",
    "plotDist(zvalues,\"Density of Z-transformed frequencies\")\n",
    "# Assuming 'value_counts' contains the frequencies\n",
    "log_frequencies = np.log(value_counts)\n",
    "# Plotting the density plot of the log of frequencies\n",
    "plt.figure(figsize=(8, 6))\n",
    "plotDist(log_frequencies,\"Density of log of frequencies\")\n",
    "# Plotting the density plot of the log of frequencies\n",
    "zlog = zScoreTransform(log_frequencies)\n",
    "plotDist(zlog,\"Density of Z-transformed log of frequencies\")\n",
    "freq = feat_ptrc.value_counts().to_dict()\n",
    "feat_ptrc = feat_ptrc.map(freq)\n",
    "feat_ptrc.head()"
   ]
  },
  {
   "cell_type": "code",
   "execution_count": null,
   "id": "959b10ce-0bc9-4998-bb77-191f31647d2c",
   "metadata": {},
   "outputs": [],
   "source": [
    "input_jeeps[column] = feat_ptrj\n",
    "input_jeeps.head()"
   ]
  },
  {
   "cell_type": "code",
   "execution_count": null,
   "id": "efa12818-dded-4fef-a421-3fe79555a62f",
   "metadata": {},
   "outputs": [],
   "source": [
    "input_caddys[column] = feat_ptrc\n",
    "input_caddys.head()"
   ]
  },
  {
   "cell_type": "code",
   "execution_count": null,
   "id": "809d5afd-4945-40bd-aa4c-40f846f92bdf",
   "metadata": {},
   "outputs": [],
   "source": [
    "freq_cols.append(column)\n",
    "col+=1\n",
    "feat_ptrj,column = setFeatPtr(input_jeeps,col)\n",
    "feat_ptrc,column = setFeatPtr(input_caddys,col)\n",
    "print(feat_ptrj)\n",
    "print(feat_ptrc)"
   ]
  },
  {
   "cell_type": "code",
   "execution_count": null,
   "id": "42346a52-92a9-4a22-9517-caf1a0664310",
   "metadata": {},
   "outputs": [],
   "source": [
    "print(feat_ptrj.value_counts())\n",
    "print(feat_ptrc.value_counts())"
   ]
  },
  {
   "cell_type": "code",
   "execution_count": null,
   "id": "43168d79-090e-4cad-bf1e-32b154c54f41",
   "metadata": {},
   "outputs": [],
   "source": [
    "feats_to_drop.append(column)\n",
    "\n",
    "col+=1\n",
    "feat_ptrj,column = setFeatPtr(input_jeeps,col)\n",
    "print(feat_ptrj.nunique())\n",
    "print(feat_ptrj.unique())\n",
    "\n",
    "feat_ptrc,column = setFeatPtr(input_caddys,col)\n",
    "print(feat_ptrc.nunique())\n",
    "print(feat_ptrc.unique())"
   ]
  },
  {
   "cell_type": "code",
   "execution_count": null,
   "id": "9fe9ee7f-770a-4ab9-9465-c75fcecd0136",
   "metadata": {},
   "outputs": [],
   "source": [
    "#A CATEGORY COLUMN EASY TO ONE HOT ENCODE WITH A SMALL ENUMERATION AMOUNT (ONLY REQUIRES\n",
    "# 5 COLUMNS TO ENCODE)\n",
    "encoded_cols.append(column)\n",
    "print(feat_ptrj)\n",
    "print(feat_ptrc)\n",
    "\n",
    "col+=1\n",
    "feat_ptrj,column = setFeatPtr(input_jeeps,col)\n",
    "print(feat_ptrj)\n",
    "feat_ptrc,column = setFeatPtr(input_caddys,col)\n",
    "print(feat_ptrc)"
   ]
  },
  {
   "cell_type": "code",
   "execution_count": null,
   "id": "3eb4a4ea-ef4d-46ca-a0ae-6a9c765e3543",
   "metadata": {},
   "outputs": [],
   "source": [
    "print(feat_ptrj.value_counts()[feat_ptrj.mode()]/len(feat_ptrj))\n",
    "feat_ptrj.value_counts().head(30)"
   ]
  },
  {
   "cell_type": "code",
   "execution_count": null,
   "id": "94da69cf-6a98-45e9-8d80-cff6f5804f9f",
   "metadata": {},
   "outputs": [],
   "source": [
    "#NOT CATEGORICAL OR CONTAINS DOMINATE VALUES, WILL NOT SIGNFICANTLY IMPACT MODEL PREDICTION EFFICIENCY\n",
    "feats_to_drop.append(column)"
   ]
  },
  {
   "cell_type": "code",
   "execution_count": null,
   "id": "1df6e509-efbe-4455-9a3b-73efe0a90584",
   "metadata": {},
   "outputs": [],
   "source": [
    "col +=1\n",
    "feat_ptrj,column = setFeatPtr(input_jeeps,col)\n",
    "print(feat_ptrj)\n",
    "feat_ptrc,column = setFeatPtr(input_caddys,col)\n",
    "print(feat_ptrc)"
   ]
  },
  {
   "cell_type": "code",
   "execution_count": null,
   "id": "b9d4c40e-09c2-473e-88e6-83f0dd4ba888",
   "metadata": {},
   "outputs": [],
   "source": [
    "#POSSIBLY NORMALIZE (Z-TRANSFORM) FOR NOW KEEP IT INTACT\n",
    "same_cols.append(column)\n",
    "col+=1\n",
    "feat_ptrj,column = setFeatPtr(input_jeeps,col)\n",
    "print(feat_ptrj)\n",
    "feat_ptrc,column = setFeatPtr(input_caddys,col)\n",
    "print(feat_ptrc)"
   ]
  },
  {
   "cell_type": "code",
   "execution_count": null,
   "id": "77f30f52-cb5c-4de2-b08a-a9f249d6103b",
   "metadata": {},
   "outputs": [],
   "source": [
    "plotDist(feat_ptrj,'Density of Seller Review Count')\n",
    "plotDist(np.log(feat_ptrj),'Density of Log(Seller Review Count)')\n",
    "plotDist(zScoreTransform(feat_ptrj),'Density of Z-Transform of Seller Review Count')\n",
    "plotDist(zScoreTransform(np.log(feat_ptrj)),'Density of Z-Transform of Log of Seller Review Count')\n"
   ]
  },
  {
   "cell_type": "code",
   "execution_count": null,
   "id": "704d43f8-8751-46a4-a771-60719f4f021f",
   "metadata": {},
   "outputs": [],
   "source": [
    "#KEEP REVIEW COUNT AS IS FOR NOW\n",
    "same_cols.append(column)\n",
    "\n",
    "col+=1 \n",
    "feat_ptrj,column = setFeatPtr(input_jeeps,col)\n",
    "feat_ptrj\n",
    "feat_ptrc,column = setFeatPtr(input_caddys,col)\n",
    "feat_ptrc"
   ]
  },
  {
   "cell_type": "code",
   "execution_count": null,
   "id": "626830c9-8d49-426a-b361-3d7bd5bb82df",
   "metadata": {},
   "outputs": [],
   "source": [
    "#STATES -> CATEGORICAL\n",
    "encoded_cols.append(column)\n",
    "\n",
    "col+=1 \n",
    "feat_ptrj,column = setFeatPtr(input_jeeps,col)\n",
    "print(feat_ptrj.nunique())\n",
    "feat_ptrc,column = setFeatPtr(input_caddys,col)\n",
    "print(feat_ptrc.nunique())"
   ]
  },
  {
   "cell_type": "code",
   "execution_count": null,
   "id": "c8c88951-612b-403f-812d-be2a2d201337",
   "metadata": {},
   "outputs": [],
   "source": [
    "#ZIP SEEMS REDUNDANT WITH CITY/STATE INFO ALREADY EXISTING\n",
    "#PLUS THE AMOUNT OF VARYING ZIPS PROVIDES NOISY DATA\n",
    "feats_to_drop.append(column)\n",
    "print(feats_to_drop)\n",
    "\n",
    "col+=1\n",
    "feat_ptrj,column = setFeatPtr(input_jeeps,col)\n",
    "print(feat_ptrj)\n",
    "feat_ptrc,column = setFeatPtr(input_caddys,col)\n",
    "print(feat_ptrc)"
   ]
  },
  {
   "cell_type": "code",
   "execution_count": null,
   "id": "6cf50187-7c5e-4b54-a70c-0d1d98287599",
   "metadata": {},
   "outputs": [],
   "source": [
    "print(feat_ptrj.nunique())\n",
    "print(feat_ptrc.nunique())"
   ]
  },
  {
   "cell_type": "code",
   "execution_count": null,
   "id": "37247544-644c-4ced-906d-6ee00580ae76",
   "metadata": {},
   "outputs": [],
   "source": [
    "#ALL SUV, MEANINGLESS DATA\n",
    "feats_to_drop.append(column)\n",
    "col+=1\n",
    "feat_ptrj,column = setFeatPtr(input_jeeps,col)\n",
    "print(feat_ptrj)\n",
    "feat_ptrc,column = setFeatPtr(input_caddys,col)\n",
    "print(feat_ptrc)"
   ]
  },
  {
   "cell_type": "code",
   "execution_count": null,
   "id": "7d5a491c-db08-4699-9997-1c842305cd15",
   "metadata": {},
   "outputs": [],
   "source": [
    "#MASK BOOLEANS AS 1 AND 0's\n",
    "feat_ptrj = (feat_ptrj).astype(int)\n",
    "input_jeeps[column] = feat_ptrj\n",
    "feat_ptrc = (feat_ptrc).astype(int)\n",
    "input_caddys[column] = feat_ptrc\n",
    "mask_cols.append(column)\n",
    "\n",
    "col+=1\n",
    "feat_ptrj,column = setFeatPtr(input_jeeps,col)\n",
    "print(feat_ptrj)\n",
    "feat_ptrc,column = setFeatPtr(input_caddys,col)\n",
    "print(feat_ptrc)"
   ]
  },
  {
   "cell_type": "code",
   "execution_count": null,
   "id": "5dfc9546-3cca-4f3d-8f70-d559b9b0a602",
   "metadata": {},
   "outputs": [],
   "source": [
    "print(feat_ptrj.value_counts())\n",
    "print(feat_ptrc.value_counts())"
   ]
  },
  {
   "cell_type": "code",
   "execution_count": null,
   "id": "422ab84c-fe42-4ee7-9d5b-022be55cccb2",
   "metadata": {},
   "outputs": [],
   "source": [
    "temp_dfj = handle_vehcolorext(feat_ptrj)\n",
    "temp_dfj.columns = temp_dfj.columns.str.lower()\n",
    "temp_dfc = handle_vehcolorext(feat_ptrc)\n",
    "temp_dfc.columns = temp_dfc.columns.str.lower()\n",
    "\n",
    "#Encoded with hand-written function rather than the encoder\n",
    "self_encodej = pd.DataFrame(temp_dfj, index=temp_dfj.index,columns=temp_dfj.columns)\n",
    "self_encodec = pd.DataFrame(temp_dfc, index=temp_dfc.index,columns=temp_dfc.columns)\n",
    "\n",
    "orig_cols.append(column)\n",
    "#Want to drop original\n",
    "feats_to_drop.append(column)\n",
    "\n",
    "print(temp_dfj.sum())\n",
    "print(temp_dfj[temp_dfj[\"none\"]==1].index)\n",
    "\n",
    "print(temp_dfc.sum())\n",
    "print(temp_dfc[temp_dfc[\"none\"]==1].index)"
   ]
  },
  {
   "cell_type": "code",
   "execution_count": null,
   "id": "e60ca45b-aafd-4d46-a6a2-46a102f2c424",
   "metadata": {},
   "outputs": [],
   "source": [
    "col+=1\n",
    "feat_ptrj,column = setFeatPtr(input_jeeps,col)\n",
    "print(feat_ptrj.value_counts())\n",
    "feat_ptrc,column = setFeatPtr(input_caddys,col)\n",
    "print(feat_ptrc.value_counts())"
   ]
  },
  {
   "cell_type": "code",
   "execution_count": null,
   "id": "b63c0b70-f3e6-4378-b6e2-3d3b1912baf6",
   "metadata": {},
   "outputs": [],
   "source": [
    "temp_dfj = handle_vehcolorint(feat_ptrj)\n",
    "temp_dfj.columns = temp_dfj.columns.str.lower()\n",
    "temp_dfc = handle_vehcolorint(feat_ptrc)\n",
    "temp_dfc.columns = temp_dfc.columns.str.lower()\n",
    "\n",
    "#Merge two handwritten encoded columns\n",
    "self_encodej = pd.merge(self_encodej, temp_dfj, left_index=True,right_index=True)\n",
    "self_encodec = pd.merge(self_encodec, temp_dfc, left_index=True,right_index=True)\n",
    "\n",
    "orig_cols.append(column)\n",
    "#Want to drop original\n",
    "feats_to_drop.append(column)\n",
    "\n",
    "print(temp_dfj.sum())\n",
    "print(temp_dfj[temp_dfj[\"none\"]==1].index)\n",
    "\n",
    "print(temp_dfc.sum())\n",
    "print(temp_dfc[temp_dfc[\"none\"]==1].index)"
   ]
  },
  {
   "cell_type": "code",
   "execution_count": null,
   "id": "5ef441c9-ac26-45ac-868a-ed6c3c7702f9",
   "metadata": {},
   "outputs": [],
   "source": [
    "col+=1\n",
    "feat_ptrj,column = setFeatPtr(input_jeeps,col)\n",
    "print(feat_ptrj)\n",
    "feat_ptrc,column = setFeatPtr(input_caddys,col)\n",
    "print(feat_ptrc)"
   ]
  },
  {
   "cell_type": "code",
   "execution_count": null,
   "id": "337a2235-88d3-44bd-b8ea-25fc698cabcb",
   "metadata": {},
   "outputs": [],
   "source": [
    "print(feat_ptrj.value_counts())\n",
    "print(feat_ptrc.value_counts())"
   ]
  },
  {
   "cell_type": "code",
   "execution_count": null,
   "id": "47bd4072-8605-4987-a6c9-7a91725cd760",
   "metadata": {},
   "outputs": [],
   "source": [
    "#BASED OFF UNIQUE VALUES SEPERATE INTO 4WD,FWD,or AWD\n",
    "temp_dfj = handle_vehdrivetrain(feat_ptrj)\n",
    "print(temp_dfj.value_counts())\n",
    "temp_dfc = handle_vehdrivetrain(feat_ptrc)\n",
    "print(temp_dfc.value_counts())"
   ]
  },
  {
   "cell_type": "code",
   "execution_count": null,
   "id": "4703ded9-fd97-425c-a19c-5294840bb370",
   "metadata": {},
   "outputs": [],
   "source": [
    "input_jeeps[column] = temp_dfj\n",
    "input_caddys[column] = temp_dfc\n",
    "encoded_cols.append(column)\n",
    "orig_cols.append(column)\n",
    "col+=1\n",
    "print(encoded_cols)\n",
    "print(input_jeeps[column])\n",
    "print(input_caddys[column])"
   ]
  },
  {
   "cell_type": "code",
   "execution_count": null,
   "id": "05e4f425-b64f-43bf-a944-e21f18ebb0f4",
   "metadata": {},
   "outputs": [],
   "source": [
    "feat_ptrj,column = setFeatPtr(input_jeeps,col)\n",
    "feat_ptrc,column = setFeatPtr(input_caddys,col)\n",
    "print(feat_ptrj.value_counts())\n",
    "print(feat_ptrc.value_counts())"
   ]
  },
  {
   "cell_type": "code",
   "execution_count": null,
   "id": "3d118ecc-a0a1-4e65-bdf2-00142a1b2154",
   "metadata": {},
   "outputs": [],
   "source": [
    "#handle_vehengine takes the vehEngine column and turns it into a \n",
    "#2 column data frame by splitting the phrases into engine size \n",
    "#and cyclinder configuration\n",
    "temp_dfj = handle_vehengine(feat_ptrj)\n",
    "temp_dfc = handle_vehengine(feat_ptrc)\n",
    "\n",
    "print(temp_dfj[\"EngineSize\"].value_counts())\n",
    "print(temp_dfj[\"Cylinders\"].value_counts())\n",
    "print(temp_dfc[\"EngineSize\"].value_counts())\n",
    "print(temp_dfc[\"Cylinders\"].value_counts())\n",
    "\n",
    "# '0' represents unknown for either columns"
   ]
  },
  {
   "cell_type": "code",
   "execution_count": null,
   "id": "750933f2-45ac-4280-bd6e-641414a50c96",
   "metadata": {},
   "outputs": [],
   "source": [
    "input_jeeps[temp_dfj.columns] = temp_dfj\n",
    "input_caddys[temp_dfc.columns] = temp_dfc\n",
    "\n",
    "orig_cols.append(column)\n",
    "feats_to_drop.append(column)\n",
    "\n",
    "col+=1\n",
    "print(encoded_cols)\n",
    "print(temp_dfj)\n",
    "print(temp_dfc)"
   ]
  },
  {
   "cell_type": "code",
   "execution_count": null,
   "id": "ea04d061-a27a-47b2-aff3-bc9a90772020",
   "metadata": {},
   "outputs": [],
   "source": [
    "feat_ptrj,column = setFeatPtr(input_jeeps,col)\n",
    "print(feat_ptrj)\n",
    "feat_ptrc,column = setFeatPtr(input_caddys,col)\n",
    "print(feat_ptrc)"
   ]
  },
  {
   "cell_type": "code",
   "execution_count": null,
   "id": "f031f5e1-1329-4b71-a042-4651789020f4",
   "metadata": {},
   "outputs": [],
   "source": [
    "#ELIMINATE WORDS THAT APPEAR IN MORE THAN max_doc_freq OF DOCUMENTS (DOCUMENT ~ ROW)\n",
    "#WILL GET RID OF COMMON WORDS SUCH AS \"THE\", \"A\", etc.\n",
    "#LIMIT VOCABULARY TO max_feats COLUMNS (ONE FOR EACH WORD)\n",
    "tf_featsj = TfidfVectorizer(max_df=0.50,max_features=30)\n",
    "temp_dfj = feat_ptrj.copy()\n",
    "tf_featsj = tf_featsj.fit(temp_dfj)\n",
    "vocab1j = tf_idfTokenizer(temp_dfj,tf_featsj)\n",
    "#THOUGHT: TUNE THE HYPERPARAMETERS TO OPTIMIZE THE TOKENIZER?\n",
    "vocab1j.head()"
   ]
  },
  {
   "cell_type": "code",
   "execution_count": null,
   "id": "38866156-d762-4078-a39b-184ae3258600",
   "metadata": {},
   "outputs": [],
   "source": [
    "#ELIMINATE WORDS THAT APPEAR IN MORE THAN max_doc_freq OF DOCUMENTS (DOCUMENT ~ ROW)\n",
    "#WILL GET RID OF COMMON WORDS SUCH AS \"THE\", \"A\", etc.\n",
    "#LIMIT VOCABULARY TO max_feats COLUMNS (ONE FOR EACH WORD)\n",
    "tf_featsc = TfidfVectorizer(max_df=0.50,max_features=30)\n",
    "temp_dfc = feat_ptrc.copy()\n",
    "tf_featsc = tf_featsc.fit(temp_dfc)\n",
    "vocab1c = tf_idfTokenizer(temp_dfc,tf_featsc)\n",
    "#THOUGHT: TUNE THE HYPERPARAMETERS TO OPTIMIZE THE TOKENIZER?\n",
    "vocab1c.head()"
   ]
  },
  {
   "cell_type": "code",
   "execution_count": null,
   "id": "73b9e6ff-4594-466e-b854-cfc10a355eec",
   "metadata": {},
   "outputs": [],
   "source": [
    "#DROP ORIGINAL STATE COLUMN AND LATER REPLACE WITH ENCODED MATRIX COLUMNS\n",
    "feats_to_drop.append(column)\n",
    "tokenize_cols = [column]\n",
    "input_jeeps.head()"
   ]
  },
  {
   "cell_type": "code",
   "execution_count": null,
   "id": "48c0b282-a2e4-4ee7-9570-c1b9cb42202d",
   "metadata": {},
   "outputs": [],
   "source": [
    "input_caddys.head()"
   ]
  },
  {
   "cell_type": "code",
   "execution_count": null,
   "id": "463595d1-4888-4043-ace7-e75e11aebdb4",
   "metadata": {},
   "outputs": [],
   "source": [
    "col+=1\n",
    "feat_ptrj,column = setFeatPtr(input_jeeps,col)\n",
    "print(feat_ptrj.value_counts())\n",
    "feat_ptrc,column = setFeatPtr(input_caddys,col)\n",
    "print(feat_ptrc.value_counts())"
   ]
  },
  {
   "cell_type": "code",
   "execution_count": null,
   "id": "8b3f1f2f-432d-4e81-90ea-0bbfbf974140",
   "metadata": {},
   "outputs": [],
   "source": [
    "encoded_cols.append(column)\n",
    "\n",
    "col+=1"
   ]
  },
  {
   "cell_type": "code",
   "execution_count": null,
   "id": "d6a41678-9285-49d1-b8a2-09c7c2e109e2",
   "metadata": {},
   "outputs": [],
   "source": [
    "feat_ptrj,column = setFeatPtr(input_jeeps,col)\n",
    "print(feat_ptrj)\n",
    "feat_ptrc,column = setFeatPtr(input_caddys,col)\n",
    "print(feat_ptrc)\n",
    "\n",
    "temp_dfj = feat_ptrj.str.split(',',n=1,expand=True)\n",
    "temp_dfj.columns = ['Owners', 'History']\n",
    "temp_dfj[\"History\"].unique()"
   ]
  },
  {
   "cell_type": "code",
   "execution_count": null,
   "id": "b722464a-ff6f-400f-98e2-2ef019cb6b16",
   "metadata": {},
   "outputs": [],
   "source": [
    "temp_dfc = feat_ptrc.str.split(',',n=1,expand=True)\n",
    "temp_dfc.columns = ['Owners', 'History']\n",
    "temp_dfc[\"History\"].unique()"
   ]
  },
  {
   "cell_type": "code",
   "execution_count": null,
   "id": "9314c0ec-59f5-48f0-864c-b8c168347a4b",
   "metadata": {},
   "outputs": [],
   "source": [
    "temp_dfj['Owners'] = temp_dfj['Owners'].str.extract(r'^(\\d+)')\n",
    "temp_dfc['Owners'] = temp_dfc['Owners'].str.extract(r'^(\\d+)')\n",
    "\n",
    "temp_dfj['Owners'].head()"
   ]
  },
  {
   "cell_type": "code",
   "execution_count": null,
   "id": "98a63bf7-936b-47e8-a336-d417cd48624c",
   "metadata": {},
   "outputs": [],
   "source": [
    "input_jeeps['Owners'] = temp_dfj['Owners']\n",
    "input_caddys['Owners'] = temp_dfc['Owners']\n",
    "\n",
    "print(input_jeeps['Owners'])\n",
    "print(input_caddys['Owners'])"
   ]
  },
  {
   "cell_type": "code",
   "execution_count": null,
   "id": "387b7b1c-95c7-4772-aca9-33f724e68d42",
   "metadata": {},
   "outputs": [],
   "source": [
    "temp_dfj[\"History\"].value_counts()"
   ]
  },
  {
   "cell_type": "code",
   "execution_count": null,
   "id": "4b8faf41-cf95-4ff3-8ab1-30e3a4f79e97",
   "metadata": {},
   "outputs": [],
   "source": [
    "#TURNS OUT THAT THESE PHRASES CAN ACTUALLY BE TURNED INTO CATEGORICAL COLUMNS\n",
    "#EACH ELEMENT IS A COMBINATION OF VARYING SIZE OF THE 4 POSSIBLE UNIQUE PHRASES\n",
    "#ONE HOT ENCODE WITH A COLUMN FOR EACH PHRASE\n",
    "encoded_histj = handle_vehhistory(temp_dfj[\"History\"])\n",
    "encoded_histj.head()"
   ]
  },
  {
   "cell_type": "code",
   "execution_count": null,
   "id": "c5604e5c-5ecf-41e7-a568-a4f522c57436",
   "metadata": {},
   "outputs": [],
   "source": [
    "encoded_histc = handle_vehhistory(temp_dfc[\"History\"])\n",
    "encoded_histc.head()"
   ]
  },
  {
   "cell_type": "code",
   "execution_count": null,
   "id": "3f7b042d-9007-42cd-a91f-6281e146c5ae",
   "metadata": {},
   "outputs": [],
   "source": [
    "#DROP ORIGINAL COLUMN AND LATER REPLACE WITH ENCODED MATRIX COLUMNS\n",
    "feats_to_drop.append(column)\n",
    "self_encodej = pd.merge(self_encodej, encoded_histj, left_index=True, right_index=True)\n",
    "self_encodec = pd.merge(self_encodec, encoded_histc, left_index=True, right_index=True)\n",
    "\n",
    "orig_cols.append(column)\n",
    "self_encodej.head()"
   ]
  },
  {
   "cell_type": "code",
   "execution_count": null,
   "id": "b08dff34-eccd-455f-9ce9-680055a3b31c",
   "metadata": {},
   "outputs": [],
   "source": [
    "col+=1\n",
    "feat_ptrj,column = setFeatPtr(input_jeeps,col)\n",
    "print(feat_ptrj.value_counts())\n",
    "feat_ptrc,column = setFeatPtr(input_caddys,col)\n",
    "print(feat_ptrc.value_counts())\n",
    "feat_ptrj.head()"
   ]
  },
  {
   "cell_type": "code",
   "execution_count": null,
   "id": "3bed9d73-f488-4e24-b4fc-87410c4f0d07",
   "metadata": {},
   "outputs": [],
   "source": [
    "#Use ceiling in order to round to whole days and start the listings \n",
    "#on day 1 rather than day 0\n",
    "feat_ptrj = pd.Series(np.ceil(feat_ptrj),index=feat_ptrj.index)\n",
    "feat_ptrc = pd.Series(np.ceil(feat_ptrc),index=feat_ptrc.index)\n",
    "\n",
    "feat_ptrj.head()"
   ]
  },
  {
   "cell_type": "code",
   "execution_count": null,
   "id": "59971fd1-d2a7-4572-8903-e48b34812765",
   "metadata": {},
   "outputs": [],
   "source": [
    "plotDist(feat_ptrj,\"Distribution of Listing Days Frequency\")\n",
    "plotDist(np.log(feat_ptrj),\"Distribution of Log(Listing Days) Frequency\")\n",
    "plotDist(zScoreTransform(feat_ptrj),\"Distribution of Z-Transform(Listing Days) Frequency\")\n",
    "plotDist(zScoreTransform(np.log(feat_ptrj)),\"Distribution of Z-Tranform(Log(Listing Days)) Frequency\")\n",
    "\n",
    "plotDist(feat_ptrc,\"Distribution of Listing Days Frequency\")\n",
    "plotDist(np.log(feat_ptrc),\"Distribution of Log(Listing Days) Frequency\")\n",
    "plotDist(zScoreTransform(feat_ptrc),\"Distribution of Z-Transform(Listing Days) Frequency\")\n",
    "plotDist(zScoreTransform(np.log(feat_ptrc)),\"Distribution of Z-Tranform(Log(Listing Days)) Frequency\")\n"
   ]
  },
  {
   "cell_type": "code",
   "execution_count": null,
   "id": "f3fa67fe-c5f8-4816-ba42-2b5cd95f7114",
   "metadata": {},
   "outputs": [],
   "source": [
    "#CHOOSE LOG VALUE\n",
    "#feat_ptrj = np.log(feat_ptrj)\n",
    "#feat_ptrc = np.log(feat_ptrc)\n",
    "\n",
    "print(feat_ptrj)\n",
    "print(feat_ptrc)"
   ]
  },
  {
   "cell_type": "code",
   "execution_count": null,
   "id": "4e245fa7-b7ba-46f7-b0fa-87f533a97976",
   "metadata": {},
   "outputs": [],
   "source": [
    "input_jeeps[column] = feat_ptrj\n",
    "input_caddys[column] = feat_ptrc\n",
    "log_cols.append(column)\n",
    "\n",
    "col+=1\n",
    "input_jeeps.head()"
   ]
  },
  {
   "cell_type": "code",
   "execution_count": null,
   "id": "c5d4198e-520e-48bc-b3f9-b8198738363a",
   "metadata": {},
   "outputs": [],
   "source": [
    "feat_ptrj,column = setFeatPtr(input_jeeps,col)\n",
    "print(feat_ptrj.value_counts())\n",
    "feat_ptrc,column = setFeatPtr(input_caddys,col)\n",
    "print(feat_ptrc.value_counts())\n",
    "feat_ptrj.head()"
   ]
  },
  {
   "cell_type": "code",
   "execution_count": null,
   "id": "85e2d230-1c23-49b5-9b3f-d793aa0e24c1",
   "metadata": {},
   "outputs": [],
   "source": [
    "#The defining attribute of each list, going to keep the same for now in case the handler functions become \"make\" specific\n",
    "same_cols.append(column)\n",
    "\n",
    "col+=1\n",
    "feat_ptrj,column = setFeatPtr(input_jeeps,col)\n",
    "print(feat_ptrj.value_counts())\n",
    "feat_ptrc,column = setFeatPtr(input_caddys,col)\n",
    "print(feat_ptrc.value_counts())"
   ]
  },
  {
   "cell_type": "code",
   "execution_count": null,
   "id": "2af9d8a2-ae0f-472c-b851-cdd109f87ffc",
   "metadata": {},
   "outputs": [],
   "source": [
    "plotDist(feat_ptrj,\"Density of Vehicle Mileage\")\n",
    "plotDist(np.log(feat_ptrj),\"Density of Log(Vehicle Mileage)\")\n",
    "plotDist(zScoreTransform(feat_ptrj),\"Density of Z-Transform(Vehicle Mileage)\")\n",
    "plotDist(zScoreTransform(np.log(feat_ptrj)),\"Density of Z-Tranform(Log(Vehicle Mileage))\")"
   ]
  },
  {
   "cell_type": "code",
   "execution_count": null,
   "id": "c3c9a14d-e106-455b-99de-b6bd1d87d91e",
   "metadata": {},
   "outputs": [],
   "source": [
    "#ORIGINAL DATA LOOKS ~NORMAL~\n",
    "\n",
    "same_cols.append(column)\n",
    "col+=1\n",
    "feat_ptrj,column = setFeatPtr(input_jeeps,col)\n",
    "print(feat_ptrj.value_counts())\n",
    "feat_ptrc,column = setFeatPtr(input_caddys,col)\n",
    "print(feat_ptrc.value_counts())"
   ]
  },
  {
   "cell_type": "code",
   "execution_count": null,
   "id": "80414d4c-7735-425b-9da9-9c97ba30727c",
   "metadata": {},
   "outputs": [],
   "source": [
    "#ALREADY HAVE JEEP/CADILLAC ENCODED COLUMNS WHICH HAVE A DIRECT CORRELATION TO THIS\n",
    "#WILL REMOVE THIS EXTRANEOUS COLUMN\n",
    "feats_to_drop.append(column)\n",
    "\n",
    "col+=1 \n",
    "feat_ptrj,column = setFeatPtr(input_jeeps,col)\n",
    "print(feat_ptrj.value_counts())\n",
    "feat_ptrc,column = setFeatPtr(input_caddys,col)\n",
    "print(feat_ptrc.value_counts())"
   ]
  },
  {
   "cell_type": "code",
   "execution_count": null,
   "id": "94f133ae-63f1-41a4-8b7f-da3a5a3615f2",
   "metadata": {},
   "outputs": [],
   "source": [
    "encoded_cols.append(column)\n",
    "\n",
    "col+=1\n",
    "feat_ptrj,column = setFeatPtr(input_jeeps,col)\n",
    "feat_ptrc,column = setFeatPtr(input_caddys,col)\n",
    "feat_ptrj.head()"
   ]
  },
  {
   "cell_type": "code",
   "execution_count": null,
   "id": "991ed3ec-06eb-4555-8fa0-8f0f93932db6",
   "metadata": {},
   "outputs": [],
   "source": [
    "#ELIMINATE WORDS THAT APPEAR IN MORE THAN max_doc_freq OF DOCUMENTS (DOCUMENT ~ ROW)\n",
    "#WILL GET RID OF COMMON WORDS SUCH AS \"THE\", \"A\", etc.\n",
    "#LIMIT VOCABULARY TO max_feats COLUMNS (ONE FOR EACH WORD)\n",
    "tfidfj = TfidfVectorizer(max_df=.50,max_features=60)\n",
    "tf_revj = tfidfj.fit(feat_ptrj.copy())\n",
    "vocab2j = tf_idfTokenizer(feat_ptrj,tf_revj)\n",
    "#THOUGHT: TUNE THE HYPERPARAMETERS TO OPTIMIZE THE TOKENIZER?\n",
    "vocab2j.head()"
   ]
  },
  {
   "cell_type": "code",
   "execution_count": null,
   "id": "7784d019-4f26-4bc7-8c37-3d0306b8e41d",
   "metadata": {},
   "outputs": [],
   "source": [
    "#ELIMINATE WORDS THAT APPEAR IN MORE THAN max_doc_freq OF DOCUMENTS (DOCUMENT ~ ROW)\n",
    "#WILL GET RID OF COMMON WORDS SUCH AS \"THE\", \"A\", etc.\n",
    "#LIMIT VOCABULARY TO max_feats COLUMNS (ONE FOR EACH WORD)\n",
    "tfidfc = TfidfVectorizer(max_df=.50,max_features=60)\n",
    "tf_revc = tfidfc.fit(feat_ptrc.copy())\n",
    "vocab2c = tf_idfTokenizer(feat_ptrc,tf_revc)\n",
    "#THOUGHT: TUNE THE HYPERPARAMETERS TO OPTIMIZE THE TOKENIZER?\n",
    "vocab2c.head()"
   ]
  },
  {
   "cell_type": "code",
   "execution_count": null,
   "id": "f8edd45a-80a1-4a67-9acb-084c35a96d80",
   "metadata": {},
   "outputs": [],
   "source": [
    "#DROP ORIGINAL STATE COLUMN AND LATER REPLACE WITH ENCODED MATRIX COLUMNS\n",
    "feats_to_drop.append(column)\n",
    "tokenize_cols.append(column)\n",
    "input_jeeps.head()"
   ]
  },
  {
   "cell_type": "code",
   "execution_count": null,
   "id": "8767d131-00dc-4faf-992f-a8d257c1f175",
   "metadata": {},
   "outputs": [],
   "source": [
    "vocabjs = pd.merge(vocab1j,vocab2j,left_index=True,right_index=True)\n",
    "vocabcs = pd.merge(vocab1c,vocab2c,left_index=True,right_index=True)\n",
    "vocabjs.head()"
   ]
  },
  {
   "cell_type": "code",
   "execution_count": null,
   "id": "040f9423-5576-4099-b423-defba001769a",
   "metadata": {},
   "outputs": [],
   "source": [
    "vocabcs.head()"
   ]
  },
  {
   "cell_type": "code",
   "execution_count": null,
   "id": "8fe5ac23-0b95-4453-874c-3f60fb135224",
   "metadata": {},
   "outputs": [],
   "source": [
    "col+=1\n",
    "feat_ptrj,column = setFeatPtr(input_jeeps,col)\n",
    "print(feat_ptrj.value_counts())\n",
    "feat_ptrc,column = setFeatPtr(input_caddys,col)\n",
    "print(feat_ptrc.value_counts())"
   ]
  },
  {
   "cell_type": "code",
   "execution_count": null,
   "id": "e31f578e-c6ce-459a-b09b-b2c26ddef920",
   "metadata": {},
   "outputs": [],
   "source": [
    "#ENTIRE COLUMN HAS VALUE \"USED\".....  DROPPING....\n",
    "feats_to_drop.append(column)\n",
    "\n",
    "col+=1 \n",
    "feat_ptrj,column = setFeatPtr(input_jeeps,col)\n",
    "print(feat_ptrj.value_counts())\n",
    "feat_ptrc,column = setFeatPtr(input_caddys,col)\n",
    "print(feat_ptrc.value_counts())"
   ]
  },
  {
   "cell_type": "code",
   "execution_count": null,
   "id": "4e8b7936-33ad-4d8d-8d6d-fa8044f2f85c",
   "metadata": {},
   "outputs": [],
   "source": [
    "#BASICALLY ALL 8-SPEED SO IT GETS DROPPED\n",
    "feats_to_drop.append(column)\n",
    "\n",
    "col+=1 \n",
    "feat_ptrj,column = setFeatPtr(input_jeeps,col)\n",
    "print(feat_ptrj.value_counts())\n",
    "feat_ptrc,column = setFeatPtr(input_caddys,col)\n",
    "print(feat_ptrc.value_counts())"
   ]
  },
  {
   "cell_type": "code",
   "execution_count": null,
   "id": "c31a4fe4-5962-4a9c-b278-406103d41445",
   "metadata": {},
   "outputs": [],
   "source": [
    "#ONLY 5 UNIQUES IN OUR DATASET SO WE WILL ONE HOT ENCODE THE CATEGORIES\n",
    "agej = calculate_age(feat_ptrj)\n",
    "agec = calculate_age(feat_ptrc)\n",
    "\n",
    "input_jeeps[column] =  agej\n",
    "input_caddys[column] = agec\n",
    "\n",
    "same_cols.append(column)\n",
    "\n",
    "print(encoded_cols)\n",
    "print(self_encodej)\n",
    "print(self_encodec)\n",
    "print(tokenize_cols)"
   ]
  },
  {
   "cell_type": "code",
   "execution_count": null,
   "id": "bf7aebe1-b068-4bfd-9111-d1596c9a45f1",
   "metadata": {},
   "outputs": [],
   "source": [
    "feats_handled = (log_cols+encoded_cols+freq_cols+same_cols+mask_cols+tokenize_cols+orig_cols)\n",
    "#print(orig_cols)\n",
    "print(\"HANDLED FEATS:\",feats_handled)\n",
    "print(\"FEATS TO DROP:\",feats_to_drop)\n",
    "\n",
    "\n",
    "overlap = list(set(feats_handled) & set(feats_to_drop))\n",
    "\n",
    "print(\"Overlapping elements:\", overlap)\n",
    "print(\"SIZE IS 26: \", len(feats_handled+feats_to_drop)-len(overlap)==26)"
   ]
  },
  {
   "cell_type": "code",
   "execution_count": null,
   "id": "76685201-37a3-4421-8fde-05d6c3a295af",
   "metadata": {},
   "outputs": [],
   "source": [
    "feats_to_drop = [col.strip().lower() for col in feats_to_drop]\n",
    "input_jeeps.columns = [col.strip().lower() for col in input_jeeps.columns]\n",
    "input_jeeps.drop(columns=feats_to_drop,inplace=True)\n",
    "input_jeeps.head()"
   ]
  },
  {
   "cell_type": "code",
   "execution_count": null,
   "id": "16e71316-07b9-43fd-b26b-5d79720d3cd4",
   "metadata": {},
   "outputs": [],
   "source": [
    "input_caddys.columns = [col.strip().lower() for col in input_caddys.columns]\n",
    "input_caddys.drop(columns=feats_to_drop,inplace=True)\n",
    "input_caddys.head()"
   ]
  },
  {
   "cell_type": "code",
   "execution_count": null,
   "id": "3a7d63cd-01a4-4ec1-96dc-63558076c683",
   "metadata": {},
   "outputs": [],
   "source": [
    "input_jeeps = pd.merge(input_jeeps,self_encodej,left_index=True,right_index=True)\n",
    "print(self_encodej.columns)\n",
    "input_jeeps.info()"
   ]
  },
  {
   "cell_type": "code",
   "execution_count": null,
   "id": "a84cf7d1-cb30-400b-bbee-a26a06bbe56f",
   "metadata": {},
   "outputs": [],
   "source": [
    "input_caddys = pd.merge(input_caddys,self_encodec,left_index=True,right_index=True)\n",
    "print(self_encodec.columns)\n",
    "input_caddys.info()"
   ]
  },
  {
   "cell_type": "code",
   "execution_count": null,
   "id": "415b037c-0707-4ff7-98bb-323c3baaf01b",
   "metadata": {},
   "outputs": [],
   "source": [
    "temp_encodedj = input_jeeps[encoded_cols]\n",
    "print(encoded_cols)\n",
    "print(temp_encodedj.columns)"
   ]
  },
  {
   "cell_type": "code",
   "execution_count": null,
   "id": "08884381-939c-4e25-855b-301a741cc0fb",
   "metadata": {},
   "outputs": [],
   "source": [
    "encoderj = OneHotEncoder(handle_unknown='ignore')\n",
    "coderj = encoderj.fit(temp_encodedj)\n",
    "temp_encodedj.columns = temp_encodedj.columns.astype(str)\n",
    "temp_encodedj = oHotEncode(temp_encodedj,coderj)\n",
    "temp_encodedj.head()"
   ]
  },
  {
   "cell_type": "code",
   "execution_count": null,
   "id": "aa7ddf01-fe3a-497b-acd6-06a85bf2fb7a",
   "metadata": {},
   "outputs": [],
   "source": [
    "temp_encodedc = input_caddys[encoded_cols]\n",
    "print(temp_encodedc.columns)"
   ]
  },
  {
   "cell_type": "code",
   "execution_count": null,
   "id": "ad345d46-dc6c-45c3-a2c8-2c3b66f84f93",
   "metadata": {},
   "outputs": [],
   "source": [
    "encoderc = OneHotEncoder(handle_unknown='ignore')\n",
    "coderc = encoderc.fit(temp_encodedc)\n",
    "temp_encodedc.columns = temp_encodedc.columns.astype(str)\n",
    "temp_encodedc = oHotEncode(temp_encodedc,coderc)\n",
    "temp_encodedc.head()"
   ]
  },
  {
   "cell_type": "code",
   "execution_count": null,
   "id": "9b548988-ccfa-4746-b639-9356405ed9d1",
   "metadata": {},
   "outputs": [],
   "source": [
    "input_jeeps.drop(columns=encoded_cols,inplace=True)\n",
    "post_feat_engj = pd.merge(input_jeeps,temp_encodedj,left_index=True, right_index=True)\n",
    "post_feat_engj.head()"
   ]
  },
  {
   "cell_type": "code",
   "execution_count": null,
   "id": "764857de-384b-4d1e-a470-41c92f707746",
   "metadata": {},
   "outputs": [],
   "source": [
    "input_caddys.drop(columns=encoded_cols,inplace=True)\n",
    "post_feat_engc = pd.merge(input_caddys,temp_encodedc,left_index=True, right_index=True)\n",
    "post_feat_engc.head()"
   ]
  },
  {
   "cell_type": "code",
   "execution_count": null,
   "id": "0e14d9e7-279a-427b-a3ce-5cdfd20ea72f",
   "metadata": {},
   "outputs": [],
   "source": [
    "post_feat_engj = pd.merge(post_feat_engj,vocabjs,left_index=True, right_index=True)\n",
    "post_feat_engj.head()"
   ]
  },
  {
   "cell_type": "code",
   "execution_count": null,
   "id": "0093780d-21d2-4f57-ab24-4c9b5d5e7b79",
   "metadata": {},
   "outputs": [],
   "source": [
    "post_feat_engc = pd.merge(post_feat_engc,vocabcs,left_index=True, right_index=True)\n",
    "post_feat_engc.head()"
   ]
  },
  {
   "cell_type": "code",
   "execution_count": null,
   "id": "f4517248-c039-4915-829d-3b42ccf564aa",
   "metadata": {},
   "outputs": [],
   "source": [
    "types = post_feat_engj.select_dtypes(include=['object'])\n",
    "\n",
    "# Display the object-type columns\n",
    "print(types)"
   ]
  },
  {
   "cell_type": "code",
   "execution_count": null,
   "id": "cf347130-d8b4-4c05-a081-eb8e063a409e",
   "metadata": {},
   "outputs": [],
   "source": [
    "post_feat_engj[\"owners\"] = pd.to_numeric(post_feat_engj[\"owners\"], errors='coerce').fillna(0).astype(int)\n",
    "print(post_feat_engj[\"owners\"].value_counts())\n",
    "post_feat_engj.columns = post_feat_engj.columns.astype(str)\n",
    "post_feat_engj.info()"
   ]
  },
  {
   "cell_type": "code",
   "execution_count": null,
   "id": "d7c67f00-76a5-444e-af35-d94dd7ab4c4b",
   "metadata": {},
   "outputs": [],
   "source": [
    "post_feat_engc[\"owners\"] = pd.to_numeric(post_feat_engc[\"owners\"], errors='coerce').fillna(0).astype(int)\n",
    "print(post_feat_engc[\"owners\"].value_counts())\n",
    "post_feat_engc.columns = post_feat_engc.columns.astype(str)\n",
    "post_feat_engc.info()"
   ]
  },
  {
   "cell_type": "code",
   "execution_count": null,
   "id": "d281c419-2c1b-4baa-b0ca-d8c9ab54b641",
   "metadata": {},
   "outputs": [],
   "source": [
    "columnsj_missing = post_feat_engj.columns[post_feat_engj.isna().any()].tolist()\n",
    "\n",
    "# Display columns with missing values\n",
    "print(\"Columns with missing values:\", columnsj_missing)"
   ]
  },
  {
   "cell_type": "code",
   "execution_count": null,
   "id": "646bf215-eb18-4ead-b59c-4d5c9dfc9a39",
   "metadata": {},
   "outputs": [],
   "source": [
    "columnsc_missing = post_feat_engc.columns[post_feat_engc.isna().any()].tolist()\n",
    "\n",
    "# Display columns with missing values\n",
    "print(\"Columns with missing values:\", columnsc_missing)"
   ]
  },
  {
   "cell_type": "code",
   "execution_count": null,
   "id": "2c0f8fb5-80b5-4ca0-988a-539012844603",
   "metadata": {},
   "outputs": [],
   "source": [
    "print(post_feat_engj.isna().sum().sum())\n",
    "post_feat_engj.head()"
   ]
  },
  {
   "cell_type": "code",
   "execution_count": null,
   "id": "50e1348b-58c3-4016-a66b-bada54811868",
   "metadata": {},
   "outputs": [],
   "source": [
    "print(post_feat_engc.isna().sum().sum())\n",
    "post_feat_engc.head()"
   ]
  },
  {
   "cell_type": "code",
   "execution_count": null,
   "id": "a453bbba-e343-45ef-aa20-6573fc260d95",
   "metadata": {},
   "outputs": [],
   "source": [
    "output_data = pd.DataFrame(df_train.iloc[:,-2:].copy())\n",
    "output_jeeps = output_data[df_train[\"vehmake\"] == \"Jeep\"].copy()\n",
    "output_caddys = output_data[df_train[\"vehmake\"] == \"Cadillac\"].copy()\n",
    "print(output_jeeps[\"vehicle_trim\"].value_counts())\n",
    "print(output_caddys[\"vehicle_trim\"].value_counts())"
   ]
  },
  {
   "cell_type": "code",
   "execution_count": null,
   "id": "05e221d1-7299-4064-b5ce-b6ea73ce8a34",
   "metadata": {},
   "outputs": [],
   "source": [
    "df_test.isna().sum()\n",
    "test_df = df_test.copy()\n",
    "test_jeeps = pd.DataFrame(test_df[test_df[\"VehMake\"]==\"Jeep\"])\n",
    "test_caddys = pd.DataFrame(test_df[test_df[\"VehMake\"]==\"Cadillac\"])"
   ]
  },
  {
   "cell_type": "code",
   "execution_count": null,
   "id": "2a1f38d3-e6a6-47af-99ae-7f631d027a72",
   "metadata": {},
   "outputs": [],
   "source": [
    "#NOW APPLY THE SAME ENCODING AND TRANSFORMATIONS TO THE TEST DATASET\n",
    "test_data_jeeps = engineerTestData(test_jeeps,log_cols,encoded_cols,freq_cols,\n",
    "                             mask_cols,tokenize_cols,orig_cols,feats_to_drop,\n",
    "                             coderj,tf_featsj,tf_revj)"
   ]
  },
  {
   "cell_type": "code",
   "execution_count": null,
   "id": "2ae18018-3d19-4065-b105-b59add54cad2",
   "metadata": {},
   "outputs": [],
   "source": [
    "#NOW APPLY THE SAME ENCODING AND TRANSFORMATIONS TO THE TEST DATASET\n",
    "test_data_caddys = engineerTestData(test_caddys,log_cols,encoded_cols,freq_cols,\n",
    "                             mask_cols,tokenize_cols,orig_cols,feats_to_drop,\n",
    "                             coderc,tf_featsc,tf_revc)"
   ]
  },
  {
   "cell_type": "code",
   "execution_count": null,
   "id": "db0082c3-3869-440c-bfd5-43e6e89109b3",
   "metadata": {},
   "outputs": [],
   "source": [
    "print(test_data_jeeps.isna().sum().sum())\n",
    "print(test_data_jeeps.info())\n",
    "test_data_jeeps.columns"
   ]
  },
  {
   "cell_type": "code",
   "execution_count": null,
   "id": "0a5c1669-5719-44e6-b5c1-1f4e56d9026f",
   "metadata": {},
   "outputs": [],
   "source": [
    "print(test_data_caddys.isna().sum().sum())\n",
    "print(test_data_caddys.info())\n",
    "test_data_caddys.head()"
   ]
  },
  {
   "cell_type": "code",
   "execution_count": null,
   "id": "ae0d1bcc-0730-49ae-bdb7-f625cb4710c4",
   "metadata": {},
   "outputs": [],
   "source": [
    "columns_with_missing_values = test_data_jeeps.columns[test_data_jeeps.isna().any()].tolist()\n",
    "print(test_data_jeeps.index)\n",
    "# Display columns with missing values\n",
    "print(\"Columns with missing values:\", columns_with_missing_values)"
   ]
  },
  {
   "cell_type": "code",
   "execution_count": null,
   "id": "6552368d-cec5-4d30-a84e-90e3ad5e9e46",
   "metadata": {},
   "outputs": [],
   "source": [
    "columns_with_missing_values = test_data_caddys.columns[test_data_caddys.isna().any()].tolist()\n",
    "print(test_data_caddys.index)\n",
    "# Display columns with missing values\n",
    "print(\"Columns with missing values:\", columns_with_missing_values)"
   ]
  },
  {
   "cell_type": "code",
   "execution_count": null,
   "id": "8a29f763-6895-47a0-96a6-9c34be5a5383",
   "metadata": {},
   "outputs": [],
   "source": [
    "test_data_jeeps[\"owners\"] = pd.to_numeric(test_data_jeeps[\"owners\"], errors='coerce').fillna(0).astype(int)\n",
    "test_data_caddys[\"owners\"] = pd.to_numeric(test_data_caddys[\"owners\"], errors='coerce').fillna(0).astype(int)"
   ]
  },
  {
   "cell_type": "code",
   "execution_count": null,
   "id": "c75203e8-863e-48ac-ba49-566974e8ab7e",
   "metadata": {},
   "outputs": [],
   "source": [
    "print(test_data_jeeps.shape)\n",
    "print(test_data_caddys.shape)\n",
    "#test_data_jeeps = test_data_jeeps[post_feat_engj.columns]\n",
    "\n",
    "post_feat_engj.to_csv(\"postfeatengj.csv\")\n",
    "test_data_jeeps.to_csv(\"testtransj.csv\") \n",
    "columns_unique_to_df1 = set(post_feat_engj.columns) - set(test_data_jeeps.columns)\n",
    "columns_unique_to_df2 = set(test_data_jeeps.columns) - set(post_feat_engj.columns)\n",
    "common_columns = post_feat_engj.columns.intersection(test_data_jeeps.columns)\n",
    "\n",
    "print(\"Columns unique to DataFrame 1:\", columns_unique_to_df1)\n",
    "print(\"Columns unique to DataFrame 2:\", columns_unique_to_df2)\n",
    "print(\"Common columns:\", common_columns)"
   ]
  },
  {
   "cell_type": "code",
   "execution_count": null,
   "id": "c9e1beaa-7f8d-4bcc-ad6f-3c91092450db",
   "metadata": {},
   "outputs": [],
   "source": [
    "jeep_encoder = LabelEncoder()\n",
    "caddy_encoder = LabelEncoder()\n",
    "\n",
    "pre_encoded_jeeps = output_jeeps[\"vehicle_trim\"]\n",
    "pre_encoded_caddys = output_caddys[\"vehicle_trim\"]\n",
    "\n",
    "print(pre_encoded_jeeps.value_counts())\n",
    "jeep_veh_trim = pd.Series(jeep_encoder.fit_transform(pre_encoded_jeeps),\n",
    "                     index=post_feat_engj.index,\n",
    "                     name=pre_encoded_jeeps.name)\n",
    "caddy_veh_trim = pd.Series(caddy_encoder.fit_transform(pre_encoded_caddys),\n",
    "                     index=pre_encoded_caddys.index,\n",
    "                     name=pre_encoded_caddys.name)\n",
    "print(np.unique(jeep_encoder.inverse_transform(jeep_veh_trim),return_counts=True))\n",
    "\n",
    "list_pricej = output_jeeps[\"dealer_listing_price\"]\n",
    "list_pricec = output_caddys[\"dealer_listing_price\"] "
   ]
  },
  {
   "cell_type": "code",
   "execution_count": null,
   "id": "a796d312-d382-467e-aa4e-8152a132e5d4",
   "metadata": {},
   "outputs": [],
   "source": [
    "post_feat_engj.drop(\"vehmake\", axis=1, inplace=True)\n",
    "print(jeep_veh_trim.value_counts())\n",
    "\n",
    "post_feat_engc.drop(\"vehmake\", axis=1, inplace=True)\n",
    "print(caddy_veh_trim.value_counts())"
   ]
  },
  {
   "cell_type": "code",
   "execution_count": null,
   "id": "493a6484-1a80-49a8-afaf-d8f0833dbc51",
   "metadata": {},
   "outputs": [],
   "source": [
    "clfj = tr.XGB_Classifier(post_feat_engj,jeep_veh_trim,False,jeep_encoder)\n",
    "clfc = tr.XGB_Classifier(post_feat_engc,caddy_veh_trim,False,caddy_encoder)"
   ]
  },
  {
   "cell_type": "code",
   "execution_count": null,
   "id": "39a8e788-0535-44f9-8b30-43d6f5da152e",
   "metadata": {},
   "outputs": [],
   "source": [
    "regj = tr.XGB_Regressor(post_feat_engj,list_pricej,jeep_veh_trim,jeep_encoder,False,True)\n",
    "regc = tr.XGB_Regressor(post_feat_engc,list_pricec,caddy_veh_trim,caddy_encoder,False,True)"
   ]
  },
  {
   "cell_type": "code",
   "execution_count": null,
   "id": "44839c3c-e131-4559-9c10-c97d26dbba43",
   "metadata": {},
   "outputs": [],
   "source": [
    "#TEST VEHICLE TRIM PREDICTIONS\n",
    "test_data_jeeps.drop(\"vehmake\",axis=1,inplace=True)\n",
    "clfj.prediction(test_data_jeeps)\n",
    "print(clfj.preds.isna().sum())\n",
    "print(clfj.preds.value_counts())\n",
    "\n",
    "test_data_caddys.drop(\"vehmake\",axis=1,inplace=True)\n",
    "clfc.prediction(test_data_caddys)\n",
    "print(clfc.preds.isna().sum())\n",
    "print(clfc.preds.value_counts())"
   ]
  },
  {
   "cell_type": "code",
   "execution_count": null,
   "id": "1af48f0d-2d00-466f-b2c3-1071552afe05",
   "metadata": {},
   "outputs": [],
   "source": [
    "percentages = pd.DataFrame({\"TEST PREDS\" : clfj.preds.value_counts(normalize=True), \n",
    "                            \"TRAINING LABELS\" : pre_encoded_jeeps.value_counts(normalize=True),\n",
    "                           \"Delta\": clfj.preds.value_counts(normalize=True)-pre_encoded_jeeps.value_counts(normalize=True)})\n",
    "percentages"
   ]
  },
  {
   "cell_type": "code",
   "execution_count": null,
   "id": "6abbce33-d37a-4f7a-8562-2f12716c1ae4",
   "metadata": {},
   "outputs": [],
   "source": [
    "exp_pricesj = pr.calc_exp_prices(test_data_jeeps,pre_encoded_jeeps,regj)\n",
    "exp_pricesc =  pr.calc_exp_prices(test_data_caddys,pre_encoded_caddys,regc)"
   ]
  },
  {
   "cell_type": "code",
   "execution_count": null,
   "id": "09ce7f61-ab3c-4142-b68e-55b10d9244e9",
   "metadata": {},
   "outputs": [],
   "source": [
    "test_preds_pricej = pr.calc_test_prices(test_data_jeeps,clfj,regj,exp_pricesj)\n",
    "test_preds_pricec = pr.calc_test_prices(test_data_caddys,clfc,regc,exp_pricesc)"
   ]
  },
  {
   "cell_type": "code",
   "execution_count": null,
   "id": "88b6b542-91bb-466a-b20b-2a8d1f0d5271",
   "metadata": {},
   "outputs": [],
   "source": [
    "#JEEPS WITHOUT POSTERIOR PROBABILITY\n",
    "regj.prediction(pd.concat([test_data_jeeps,clfj.preds_proba],axis=1))\n",
    "predsj = pd.Series(regj.preds,index=test_data_jeeps.index,name=list_pricej.name)\n",
    "#CADDYS WITHOUT POSTERIOR PROBABILITY\n",
    "regc.prediction(pd.concat([test_data_caddys,clfc.preds_proba],axis=1))\n",
    "predsc = pd.Series(regc.preds,index=test_data_caddys.index,name=list_pricec.name)"
   ]
  },
  {
   "cell_type": "code",
   "execution_count": null,
   "id": "fb2b90ff-8ced-4044-a17f-d5de5195f86f",
   "metadata": {},
   "outputs": [],
   "source": [
    "#Train a new model without the trims involved\n",
    "regj_no_trim = tr.XGB_Regressor(post_feat_engj,list_pricej,jeep_veh_trim,jeep_encoder,False,False)\n",
    "regj_no_trim.prediction(test_data_jeeps)\n",
    "no_trims = pd.Series(regj_no_trim.preds,index=test_data_jeeps.index,name=list_pricej.name)"
   ]
  },
  {
   "cell_type": "code",
   "execution_count": null,
   "id": "bca9aaa4-10e1-4be8-a507-0124af645e13",
   "metadata": {},
   "outputs": [],
   "source": [
    "desc_stats = pd.DataFrame({'Training Prices': list_pricej.describe(),\n",
    "                           'Expected Price Prob Calculation': test_preds_pricej.describe(),\n",
    "                          'Model Prediction with trim probs': predsj.describe(),\n",
    "                          'Trim Agnostic Preds': no_trims.describe()})\n",
    "\n",
    "desc_stats"
   ]
  },
  {
   "cell_type": "code",
   "execution_count": null,
   "id": "a0f05d70-8213-4b4d-971f-d409cdfc990a",
   "metadata": {},
   "outputs": [],
   "source": [
    "final_jeep_outputs = pd.concat([clfj.preds, test_preds_pricej],axis=1)\n",
    "final_caddy_outputs = pd.concat([clfc.preds, test_preds_pricec],axis=1)\n",
    "final_outputs = pd.concat([final_jeep_outputs,final_caddy_outputs],axis=0)\n",
    "\n",
    "final_outputs.columns = output_data.columns\n",
    "print(final_outputs)"
   ]
  },
  {
   "cell_type": "code",
   "execution_count": null,
   "id": "3fd79d88-81cb-4968-b061-1d5e5b7509ac",
   "metadata": {},
   "outputs": [],
   "source": [
    "final_outputs['Index'] = final_outputs.index\n",
    "final_outputs = final_outputs[['Index',output_data.columns[0],output_data.columns[1]]]\n",
    "final_outputs.head()"
   ]
  },
  {
   "cell_type": "code",
   "execution_count": null,
   "id": "0fed4b52-728e-4e26-a01d-01a42663305a",
   "metadata": {},
   "outputs": [],
   "source": [
    "print(final_outputs.isna().sum())"
   ]
  },
  {
   "cell_type": "code",
   "execution_count": null,
   "id": "adb7665e-f25c-4830-9b2b-45b60a137086",
   "metadata": {},
   "outputs": [],
   "source": [
    "final_outputs.to_csv('submission.csv', index=False, header=False)"
   ]
  },
  {
   "cell_type": "code",
   "execution_count": null,
   "id": "05d93d2e-a033-43b2-a702-03c6bbcd0cc0",
   "metadata": {},
   "outputs": [],
   "source": []
  }
 ],
 "metadata": {
  "kernelspec": {
   "display_name": "Python 3 (ipykernel)",
   "language": "python",
   "name": "python3"
  },
  "language_info": {
   "codemirror_mode": {
    "name": "ipython",
    "version": 3
   },
   "file_extension": ".py",
   "mimetype": "text/x-python",
   "name": "python",
   "nbconvert_exporter": "python",
   "pygments_lexer": "ipython3",
   "version": "3.12.1"
  }
 },
 "nbformat": 4,
 "nbformat_minor": 5
}
